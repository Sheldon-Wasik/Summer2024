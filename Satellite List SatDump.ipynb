{
 "cells": [
  {
   "cell_type": "markdown",
   "id": "05427a8c",
   "metadata": {},
   "source": [
    "### Loading in and organzing "
   ]
  },
  {
   "cell_type": "code",
   "execution_count": 214,
   "id": "795347f3",
   "metadata": {},
   "outputs": [
    {
     "name": "stdout",
     "output_type": "stream",
     "text": [
      "The Frequency Bands are:\n",
      "\n",
      " ['RTD', 'MDL', 'and', 'HRD', 'X-band', 'HRPT', 'LRIT', 'stations,', 'GRB', 'GVAR', 'C-Band', 'AHRPT', 'S-band', 'S-VISSR', 'Ku-Band', 'CDA', 'APT', 'Hartebeesthoek', 'LRPT', 'GAC', 'X-Band', 'L-band', 'SD', 'or', 'DPT', 'xRIT', 'HRIT', '\\n', 'GSM', 'Ka-Band', 'L-Band', 'VHF', 'CDAS', 'RDAS', 'DSB', 'MPT', 'S-Band']\n",
      "\n",
      "All satellites in X-Band are:\n",
      "\n",
      " ['METEOR-M N1', 'METEOR-M N2', 'METEOR-M N2-2', 'METEOR-M N2-3', 'METEOR-M N2-4', 'METOP-A', 'METOP-B', 'METOP-C', 'PROBA-V', 'PROBA-V cubesat companion', 'CORIOLIS', 'SMAP', 'TUBIN', 'IRIS', 'OPS-SAT', 'HINODE', 'SWOT', 'FORMOSAT-5', 'SUOMI-NPP', 'SMOS', 'AQUA', 'TERRA', 'AURA', 'CRYOSAT-2', 'GCOM-W1', 'GCOM-C1', 'CALIPSO', 'PAZ', 'CFOSAT', 'PRISMA', 'AEOLUS', 'STEREO A/B', 'LANDSAT 8/9', 'SENTINEL 6', 'GOES-16', 'GOES-17', 'GOES-18']\n"
     ]
    }
   ],
   "source": [
    "import pandas as pd\n",
    "\n",
    "# List from https://www.satdump.org/Satellite-List/ file save as txt\n",
    "\n",
    "inputBandMask = 'X-Band'\n",
    "file1 = r\"SatDump\\Satellite List SatDump.txt\"\n",
    "with open(file1,'r', encoding=\"utf8\") as fyl:\n",
    "    text = fyl.read()\n",
    "    \n",
    "mySatellites = []\n",
    "myFrequencies = []\n",
    "frequencyHolder = []\n",
    "NoradID = []\n",
    "allFreq = []\n",
    "nextLinesFreq = False\n",
    "with open(file1, 'r', encoding=\"utf8\") as topo_file:\n",
    "    for line in topo_file:\n",
    "        if \"Norad\" in line:\n",
    "            mySatellites.append(line.split(\" [\")[0].lstrip())\n",
    "            noradString = line.split(\" [\")[1].lstrip()\n",
    "            noradString = noradString.split(\" \")[1]\n",
    "            newNorad = []\n",
    "            for var in noradString:\n",
    "                if var.isnumeric():\n",
    "                    newNorad.append(var)\n",
    "                else:\n",
    "                    break\n",
    "            singleElementNORAD = ''.join(newNorad)\n",
    "            NoradID.append(singleElementNORAD)\n",
    "        if nextLinesFreq == True:\n",
    "            band = line.split(\" \")[0]\n",
    "            frequencyHolder.append(band)\n",
    "            allFreq.append(band)\n",
    "        if \"Frequency\" in line:\n",
    "            nextLinesFreq = True\n",
    "        if len(frequencyHolder) > 0:\n",
    "            if len(line.strip()) == 0:\n",
    "                if \"\\n\" in frequencyHolder: frequencyHolder.remove('\\n')\n",
    "                singleElement = ', '.join(frequencyHolder)\n",
    "                myFrequencies.append(singleElement)\n",
    "                frequencyHolder = []\n",
    "                nextLinesFreq = False\n",
    "myDF = pd.DataFrame(\n",
    "    {'Satellite': mySatellites,\n",
    "     'Frequency Band': myFrequencies,\n",
    "     'Norad ID': NoradID\n",
    "    })\n",
    "\n",
    "UniqueFreq = list(set(allFreq))\n",
    "satsInDesiredBand = myDF[myDF['Frequency Band'].str.contains(inputBandMask)==True][\"Satellite\"].tolist()\n",
    "print(\"The Frequency Bands are:\\n\\n\", UniqueFreq)\n",
    "print(\"\\nAll satellites in\", inputBandMask, 'are:\\n\\n', satsInDesiredBand)"
   ]
  },
  {
   "cell_type": "markdown",
   "id": "8e7833e2",
   "metadata": {},
   "source": [
    "### making TLE"
   ]
  },
  {
   "cell_type": "code",
   "execution_count": 281,
   "id": "e21dd5b6",
   "metadata": {},
   "outputs": [
    {
     "name": "stdout",
     "output_type": "stream",
     "text": [
      "TLE Output saved to: X-Band_TLE_satDump.txt\n",
      "\n",
      "We found the TLE with no name changes for:\n",
      " ['METOP-B', 'METOP-C', 'PROBA-V', 'CORIOLIS', 'SMAP', 'TUBIN', 'IRIS', 'OPS-SAT', 'HINODE', 'SWOT', 'FORMOSAT-5', 'SMOS', 'AQUA', 'TERRA', 'AURA', 'GCOM-W1', 'CALIPSO', 'PAZ', 'CFOSAT', 'PRISMA']\n",
      "\n",
      "We found the TLE based on NORAD, with name changes for:\n",
      " ['METEOR-M N2', 'METEOR-M N2-2', 'METEOR-M N2-3', 'METEOR-M N2-4', 'PROBA-V cubesat companion', 'SUOMI-NPP', 'CRYOSAT-2', 'GCOM-C1', 'LANDSAT 8/9', 'SENTINEL 6', 'GOES-16', 'GOES-17', 'GOES-18']\n",
      "\n",
      "We did NOT find the TLE for:\n",
      " ['METEOR-M N1', 'METOP-A', 'AEOLUS', 'STEREO A/B']\n"
     ]
    }
   ],
   "source": [
    "with open('active.txt','r', encoding=\"utf8\") as tle_text_read:\n",
    "    tle_text = tle_text_read.read()\n",
    "    \n",
    "f = open(f\"TLE_files/{inputBandMask}_TLE_satDump.txt\", \"w\")\n",
    "notFound = []\n",
    "Found = []\n",
    "FoundNORAD = []\n",
    "for DesSat in satsInDesiredBand:\n",
    "    if DesSat in tle_text:\n",
    "        myIndex = tle_text.index(DesSat)\n",
    "        myRange = tle_text[myIndex:myIndex+200]\n",
    "        myRangeSplit = myRange.split('\\n')\n",
    "        print(myRangeSplit[0], file=f)\n",
    "        print(myRangeSplit[1], file=f)\n",
    "        print(myRangeSplit[2], file=f)\n",
    "        Found.append(DesSat)\n",
    "    else:\n",
    "        myNewNorad = myDF.loc[myDF['Satellite'] == DesSat, 'Norad ID'].iloc[0]\n",
    "        myNewNoradCheck = \"1 \"+myNewNorad+\"U\"\n",
    "        myNewNoradCheckreverse = myNewNoradCheck[::-1]\n",
    "        \n",
    "        if myNewNoradCheck in tle_text:\n",
    "            myIndex = tle_text.index(myNewNoradCheck)\n",
    "            myRange = tle_text[myIndex-5:myIndex+200]\n",
    "            myRangeSplit = myRange.split('\\n')\n",
    "            FoundNORAD.append(DesSat)\n",
    "            getSatNameRange = tle_text[myIndex-200:myIndex+200]\n",
    "            getSatNameRangeReverse = getSatNameRange[::-1]\n",
    "            print(getSatNameRangeReverse[192::].split(\"\\n\")[1][::-1].strip(), file=f)\n",
    "            print(myRangeSplit[1], file=f)\n",
    "            print(myRangeSplit[2], file=f)\n",
    "        else:\n",
    "            notFound.append(DesSat)\n",
    "        \n",
    "f.close()   \n",
    "print(f\"TLE Output saved to: TLE_files/{inputBandMask}_TLE_satDump.txt\")\n",
    "print()\n",
    "print(\"We found the TLE with no name changes for:\\n\", Found)\n",
    "print(\"\\nWe found the TLE based on NORAD, with name changes for:\\n\", FoundNORAD)\n",
    "print(\"\\nWe did NOT find the TLE for:\\n\", notFound)"
   ]
  },
  {
   "cell_type": "code",
   "execution_count": null,
   "id": "4c4f520b",
   "metadata": {},
   "outputs": [],
   "source": []
  }
 ],
 "metadata": {
  "kernelspec": {
   "display_name": "Python 3 (ipykernel)",
   "language": "python",
   "name": "python3"
  },
  "language_info": {
   "codemirror_mode": {
    "name": "ipython",
    "version": 3
   },
   "file_extension": ".py",
   "mimetype": "text/x-python",
   "name": "python",
   "nbconvert_exporter": "python",
   "pygments_lexer": "ipython3",
   "version": "3.9.13"
  }
 },
 "nbformat": 4,
 "nbformat_minor": 5
}
